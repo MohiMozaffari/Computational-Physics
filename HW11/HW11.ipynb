{
 "cells": [
  {
   "attachments": {},
   "cell_type": "markdown",
   "metadata": {},
   "source": [
    "# Exercise Set 11\n",
    "\n",
    "\n",
    "## Mohaddeseh Mozaffari"
   ]
  },
  {
   "cell_type": "code",
   "execution_count": 17,
   "metadata": {},
   "outputs": [],
   "source": [
    "import cirq\n",
    "from cirq import X, H, Z, inverse, CX, I"
   ]
  },
  {
   "attachments": {},
   "cell_type": "markdown",
   "metadata": {},
   "source": [
    "# Q1:"
   ]
  },
  {
   "attachments": {},
   "cell_type": "markdown",
   "metadata": {},
   "source": [
    "## Figure 1)"
   ]
  },
  {
   "cell_type": "code",
   "execution_count": 3,
   "metadata": {},
   "outputs": [],
   "source": [
    "def edge_check(a, b, c):\n",
    "    yield CX(qq[a], qq[c])\n",
    "    yield CX(qq[b], qq[c])\n",
    "\n",
    "def oracle():\n",
    "    # check 0-1 edge and store at 4th qubit\n",
    "    yield edge_check(0, 1, 4)\n",
    "    # check 0-2 edge and store at 5th qubit\n",
    "    yield edge_check(0, 2, 5)\n",
    "    # check 0-3 edge and store at 6th qubit\n",
    "    yield edge_check(0, 3, 6)\n",
    "    # check 1-3 edge and store at 7th qubit\n",
    "    yield edge_check(1, 3, 7)\n",
    "\n",
    "    # check all edge qubits\n",
    "    yield X(qq[8]).controlled_by(*(qq[4:8]))\n",
    "    \n",
    "def oracle_computation():\n",
    "    yield oracle()\n",
    "    yield Z(qq[8])\n",
    "    yield inverse(oracle())    \n",
    "\n",
    "def inversion():\n",
    "    yield H.on_each(*qq)\n",
    "    yield X.on_each(*qq)\n",
    "    yield Z(qq[3]).controlled_by(*(qq[0:3]))\n",
    "    yield X.on_each(*qq)\n",
    "    yield H.on_each(*qq)"
   ]
  },
  {
   "cell_type": "code",
   "execution_count": 5,
   "metadata": {},
   "outputs": [
    {
     "name": "stdout",
     "output_type": "stream",
     "text": [
      "Counter({'1111': 81, '0000': 80, '1100': 72, '1101': 69, '0110': 68, '0101': 66, '0011': 66, '1001': 65, '0111': 62, '1110': 60, '0001': 56, '1010': 53, '1011': 53, '0010': 50, '0100': 50, '1000': 49})\n",
      "              ┌──┐   ┌───┐                       ┌──┐   ┌──┐   ┌───┐   ┌──┐   ┌──┐                           ┌──┐   ┌───┐                       ┌──┐   ┌──┐   ┌───┐   ┌──┐   ┌──┐\n",
      "0: ───H───@─────@──────@────────────────────────────────────────@───────@──────@─────H───X───@───X───H───@─────@──────@────────────────────────────────────────@───────@──────@─────H───X───@───X───H───M('result')───\n",
      "          │     │      │                                        │       │      │             │           │     │      │                                        │       │      │             │           │\n",
      "1: ───H───┼────@┼──────┼@────────────────────────────────@──────┼@──────┼H─────┼X────────────@───X───H───┼────@┼──────┼@────────────────────────────────@──────┼@──────┼H─────┼X────────────@───X───H───M─────────────\n",
      "          │    ││      ││                                │      ││      │      │             │           │    ││      ││                                │      ││      │      │             │           │\n",
      "2: ───H───┼────┼┼─────@┼┼──────────────────────────@─────┼H─────┼┼X─────┼──────┼─────────────@───X───H───┼────┼┼─────@┼┼──────────────────────────@─────┼H─────┼┼X─────┼──────┼─────────────@───X───H───M─────────────\n",
      "          │    ││     │││                          │     │      ││      │      │             │           │    ││     │││                          │     │      ││      │      │             │           │\n",
      "3: ───H───┼────┼┼─────┼┼┼────@───@────────────────@┼─────┼@─────┼┼H─────┼X─────┼─────────────Z───X───H───┼────┼┼─────┼┼┼────@───@────────────────@┼─────┼@─────┼┼H─────┼X─────┼─────────────Z───X───H───M─────────────\n",
      "          │    ││     │││    │   │                ││     ││     ││      │      │                         │    ││     │││    │   │                ││     ││     ││      │      │\n",
      "4: ───────X────X┼─────┼┼┼────┼───┼───@───────@────┼┼─────┼┼─────┼X──────┼──────X─────H───X───X───H───────X────X┼─────┼┼┼────┼───┼───@───────@────┼┼─────┼┼─────┼X──────┼──────X─────H───X───X───H─────────────────────\n",
      "                │     │││    │   │   │       │    ││     ││     │       │                                      │     │││    │   │   │       │    ││     ││     │       │\n",
      "5: ─────────────X─────X┼┼────┼───┼───@───────@────┼X─────┼┼─────┼───────X──────H─────X───X───H─────────────────X─────X┼┼────┼───┼───@───────@────┼X─────┼┼─────┼───────X──────H─────X───X───H─────────────────────────\n",
      "                       ││    │   │   │       │    │      ││     │                                                     ││    │   │   │       │    │      ││     │\n",
      "6: ────────────────────X┼────X───┼───@───────@────┼──────┼X─────X───────H──────X─────X───H────────────────────────────X┼────X───┼───@───────@────┼──────┼X─────X───────H──────X─────X───H─────────────────────────────\n",
      "                        │        │   │       │    │      │                                                             │        │   │       │    │      │\n",
      "7: ─────────────────────X────────X───@───────@────X──────X──────H───────X──────X─────H─────────────────────────────────X────────X───@───────@────X──────X──────H───────X──────X─────H─────────────────────────────────\n",
      "                                     │       │                                                                                      │       │\n",
      "8: ──────────────────────────────────X───Z───X────H──────X──────X───────H───────────────────────────────────────────────────────────X───Z───X────H──────X──────X───────H──────────────────────────────────────────────\n",
      "              └──┘   └───┘                       └──┘   └──┘   └───┘   └──┘   └──┘                           └──┘   └───┘                       └──┘   └──┘   └───┘   └──┘   └──┘\n"
     ]
    }
   ],
   "source": [
    "circuit = cirq.Circuit()\n",
    "\n",
    "qq = cirq.LineQubit.range(9)\n",
    "\n",
    "circuit.append(H.on_each(*(qq[0:4])))\n",
    "##################################################\n",
    "\n",
    "\n",
    "for i in range(2):\n",
    "    circuit.append(oracle_computation())\n",
    "    circuit.append(inversion())\n",
    "\n",
    "# we are only intertested in outputs of first 4 qubits\n",
    "circuit.append(cirq.measure(*(qq[0:4]), key='result'))\n",
    "######################################################################################################\n",
    "# determine the statistics of the measurements\n",
    "trials_number = 1000\n",
    "s = cirq.Simulator()\n",
    "samples = s.run(circuit, repetitions=trials_number)\n",
    "result = samples.measurements[\"result\"]\n",
    "\n",
    "def bitstring(bits):\n",
    "    return \"\".join(str(int(b)) for b in bits)\n",
    "\n",
    "counts = samples.histogram(key=\"result\",fold_func=bitstring)\n",
    "print(counts)\n",
    "print(circuit)"
   ]
  },
  {
   "attachments": {},
   "cell_type": "markdown",
   "metadata": {},
   "source": [
    "As a result, the graph is not bipartite since all probabilities are almost equal."
   ]
  },
  {
   "attachments": {},
   "cell_type": "markdown",
   "metadata": {},
   "source": [
    "## Figure 2)"
   ]
  },
  {
   "cell_type": "code",
   "execution_count": 7,
   "metadata": {},
   "outputs": [],
   "source": [
    "def edge_check(a, b, c):\n",
    "    yield CX(qq[a], qq[c])\n",
    "    yield CX(qq[b], qq[c])\n",
    "\n",
    "def oracle():\n",
    "    # check 0-2 edge and store at 4th qubit\n",
    "    yield edge_check(0, 2, 4)\n",
    "    # check 0-3 edge and store at 5th qubit\n",
    "    yield edge_check(0, 3, 5)\n",
    "    # check 2-1 edge and store at 6th qubit\n",
    "    yield edge_check(2, 1, 6)\n",
    "    # check 1-3 edge and store at 7th qubit\n",
    "    yield edge_check(1, 3, 7)\n",
    "\n",
    "    # check all edge qubits\n",
    "    yield X(qq[8]).controlled_by(*(qq[4:8]))\n",
    "    \n",
    "def oracle_computation():\n",
    "    yield oracle()\n",
    "    yield Z(qq[8])\n",
    "    yield inverse(oracle())    \n",
    "\n",
    "def inversion():\n",
    "    yield H.on_each(*qq)\n",
    "    yield X.on_each(*qq)\n",
    "    yield Z(qq[3]).controlled_by(*(qq[0:3]))\n",
    "    yield X.on_each(*qq)\n",
    "    yield H.on_each(*qq)"
   ]
  },
  {
   "cell_type": "code",
   "execution_count": 8,
   "metadata": {},
   "outputs": [
    {
     "name": "stdout",
     "output_type": "stream",
     "text": [
      "Counter({'0011': 482, '1100': 458, '0001': 7, '0111': 7, '1000': 7, '1001': 6, '0110': 5, '1010': 5, '0010': 4, '1110': 4, '0000': 4, '0101': 3, '1101': 3, '1011': 2, '0100': 2, '1111': 1})\n",
      "              ┌──┐   ┌──┐                               ┌──┐   ┌───┐   ┌──┐       ┌──┐                           ┌──┐   ┌──┐                               ┌──┐   ┌───┐   ┌──┐       ┌──┐\n",
      "0: ───H───@─────@────────────────────────────────────────────────@─────────────────@─────H───X───@───X───H───@─────@────────────────────────────────────────────────@─────────────────@─────H───X───@───X───H───M('result')───\n",
      "          │     │                                                │                 │             │           │     │                                                │                 │             │           │\n",
      "1: ───H───┼─────┼───────────@───@────────────────────────@──────@┼──────H─────X────┼─────────────@───X───H───┼─────┼───────────@───@────────────────────────@──────@┼──────H─────X────┼─────────────@───X───H───M─────────────\n",
      "          │     │           │   │                        │      ││                 │             │           │     │           │   │                        │      ││                 │             │           │\n",
      "2: ───H───┼────@┼──────@────┼───┼────────────────────────┼──────┼┼──────@─────@────┼H────X───────@───X───H───┼────@┼──────@────┼───┼────────────────────────┼──────┼┼──────@─────@────┼H────X───────@───X───H───M─────────────\n",
      "          │    ││      │    │   │                        │      ││      │     │    │             │           │    ││      │    │   │                        │      ││      │     │    │             │           │\n",
      "3: ───H───┼────┼┼─────@┼────┼───┼───@───────────────@────┼@─────┼┼H─────┼X────┼────┼─────────────Z───X───H───┼────┼┼─────@┼────┼───┼───@───────────────@────┼@─────┼┼H─────┼X────┼────┼─────────────Z───X───H───M─────────────\n",
      "          │    ││     ││    │   │   │               │    ││     ││      │     │    │                         │    ││     ││    │   │   │               │    ││     ││      │     │    │\n",
      "4: ───────X────X┼─────┼┼────┼───┼───┼───@───────@───┼────┼┼─────┼┼──────┼─────X────X─────H───X───X───H───────X────X┼─────┼┼────┼───┼───┼───@───────@───┼────┼┼─────┼┼──────┼─────X────X─────H───X───X───H─────────────────────\n",
      "                │     ││    │   │   │   │       │   │    ││     ││      │                                          │     ││    │   │   │   │       │   │    ││     ││      │\n",
      "5: ─────────────X─────X┼────┼───┼───┼───@───────@───┼────┼X─────┼X──────┼H────X────X─────H─────────────────────────X─────X┼────┼───┼───┼───@───────@───┼────┼X─────┼X──────┼H────X────X─────H─────────────────────────────────\n",
      "                       │    │   │   │   │       │   │    │      │       │                                                 │    │   │   │   │       │   │    │      │       │\n",
      "6: ────────────────────X────X───┼───┼───@───────@───┼────┼──────X───────X─────H────X─────X───H────────────────────────────X────X───┼───┼───@───────@───┼────┼──────X───────X─────H────X─────X───H─────────────────────────────\n",
      "                                │   │   │       │   │    │                                                                         │   │   │       │   │    │\n",
      "7: ─────────────────────────────X───X───@───────@───X────X──────H───────X─────X────H───────────────────────────────────────────────X───X───@───────@───X────X──────H───────X─────X────H───────────────────────────────────────\n",
      "                                        │       │                                                                                          │       │\n",
      "8: ─────────────────────────────────────X───Z───X───H────X──────X───────H──────────────────────────────────────────────────────────────────X───Z───X───H────X──────X───────H──────────────────────────────────────────────────\n",
      "              └──┘   └──┘                               └──┘   └───┘   └──┘       └──┘                           └──┘   └──┘                               └──┘   └───┘   └──┘       └──┘\n"
     ]
    }
   ],
   "source": [
    "circuit = cirq.Circuit()\n",
    "\n",
    "qq = cirq.LineQubit.range(9)\n",
    "\n",
    "circuit.append(H.on_each(*(qq[0:4])))\n",
    "##################################################\n",
    "\n",
    "\n",
    "for i in range(2):\n",
    "    circuit.append(oracle_computation())\n",
    "    circuit.append(inversion())\n",
    "\n",
    "# we are only intertested in outputs of first 4 qubits\n",
    "circuit.append(cirq.measure(*(qq[0:4]), key='result'))\n",
    "######################################################################################################\n",
    "# determine the statistics of the measurements\n",
    "trials_number = 1000\n",
    "s = cirq.Simulator()\n",
    "samples = s.run(circuit, repetitions=trials_number)\n",
    "result = samples.measurements[\"result\"]\n",
    "\n",
    "def bitstring(bits):\n",
    "    return \"\".join(str(int(b)) for b in bits)\n",
    "\n",
    "counts = samples.histogram(key=\"result\",fold_func=bitstring)\n",
    "print(counts)\n",
    "print(circuit)"
   ]
  },
  {
   "attachments": {},
   "cell_type": "markdown",
   "metadata": {},
   "source": [
    "The graph is bipartite because the 0011 and 1100 have the highest probabilities."
   ]
  },
  {
   "attachments": {},
   "cell_type": "markdown",
   "metadata": {},
   "source": [
    "# Q2:"
   ]
  },
  {
   "attachments": {},
   "cell_type": "markdown",
   "metadata": {},
   "source": [
    "## Figure 1)"
   ]
  },
  {
   "attachments": {},
   "cell_type": "markdown",
   "metadata": {},
   "source": [
    "If color is 0110, We have:"
   ]
  },
  {
   "cell_type": "code",
   "execution_count": 43,
   "metadata": {},
   "outputs": [],
   "source": [
    "circuit = cirq.Circuit()\n",
    "\n",
    "qs = cirq.LineQubit.range(5)\n",
    "circuit.append(I(qs[0]))\n",
    "circuit.append(X(qs[1]))\n",
    "circuit.append(X(qs[2]))\n",
    "\n",
    "circuit.append(CX(qs[0], qs[4]))\n",
    "circuit.append(CX(qs[1], qs[4]))\n",
    "circuit.append(CX(qs[0], qs[4]))\n",
    "circuit.append(CX(qs[2], qs[4]))\n",
    "circuit.append(CX(qs[0], qs[4]))\n",
    "circuit.append(CX(qs[3], qs[4]))\n",
    "circuit.append(CX(qs[1], qs[4]))\n",
    "circuit.append(CX(qs[3], qs[4]))\n",
    "\n",
    "circuit.append(cirq.measure(qs[4], key=\"result\"))"
   ]
  },
  {
   "cell_type": "code",
   "execution_count": 44,
   "metadata": {},
   "outputs": [
    {
     "name": "stdout",
     "output_type": "stream",
     "text": [
      "Counter({'1': 1000})\n"
     ]
    }
   ],
   "source": [
    "trials_number = 1000\n",
    "s = cirq.Simulator()\n",
    "samples = s.run(circuit, repetitions=trials_number)\n",
    "result = samples.measurements[\"result\"]\n",
    "\n",
    "def bitstring(bits):\n",
    "    return \"\".join(str(int(b)) for b in bits)\n",
    "\n",
    "counts = samples.histogram(key=\"result\",fold_func=bitstring)\n",
    "print(counts)"
   ]
  },
  {
   "cell_type": "code",
   "execution_count": 45,
   "metadata": {},
   "outputs": [
    {
     "name": "stdout",
     "output_type": "stream",
     "text": [
      "0: ───I───@───────@───────@─────────────────────────────\n",
      "          │       │       │\n",
      "1: ───X───┼───@───┼───────┼───────@─────────────────────\n",
      "          │   │   │       │       │\n",
      "2: ───X───┼───┼───┼───@───┼───────┼─────────────────────\n",
      "          │   │   │   │   │       │\n",
      "3: ───────┼───┼───┼───┼───┼───@───┼───@─────────────────\n",
      "          │   │   │   │   │   │   │   │\n",
      "4: ───────X───X───X───X───X───X───X───X───M('result')───\n"
     ]
    }
   ],
   "source": [
    "print(circuit)"
   ]
  },
  {
   "attachments": {},
   "cell_type": "markdown",
   "metadata": {},
   "source": [
    "If color is 1001, We have:"
   ]
  },
  {
   "cell_type": "code",
   "execution_count": 65,
   "metadata": {},
   "outputs": [],
   "source": [
    "circuit = cirq.Circuit()\n",
    "\n",
    "qs = cirq.LineQubit.range(5)\n",
    "\n",
    "circuit.append(X(qs[0]))\n",
    "circuit.append(I(qs[1]))\n",
    "circuit.append(X(qs[3]))\n",
    "\n",
    "circuit.append(CX(qs[0], qs[4]))\n",
    "circuit.append(CX(qs[1], qs[4]))\n",
    "circuit.append(CX(qs[0], qs[4]))\n",
    "circuit.append(CX(qs[2], qs[4]))\n",
    "circuit.append(CX(qs[0], qs[4]))\n",
    "circuit.append(CX(qs[3], qs[4]))\n",
    "circuit.append(CX(qs[1], qs[4]))\n",
    "circuit.append(CX(qs[3], qs[4]))\n",
    "\n",
    "circuit.append(cirq.measure(qs[4], key=\"result\"))"
   ]
  },
  {
   "cell_type": "code",
   "execution_count": 66,
   "metadata": {},
   "outputs": [
    {
     "name": "stdout",
     "output_type": "stream",
     "text": [
      "Counter({'1': 1000})\n"
     ]
    }
   ],
   "source": [
    "trials_number = 1000\n",
    "s = cirq.Simulator()\n",
    "samples = s.run(circuit, repetitions=trials_number)\n",
    "result = samples.measurements[\"result\"]\n",
    "\n",
    "def bitstring(bits):\n",
    "    return \"\".join(str(int(b)) for b in bits)\n",
    "\n",
    "counts = samples.histogram(key=\"result\",fold_func=bitstring)\n",
    "print(counts)"
   ]
  },
  {
   "cell_type": "code",
   "execution_count": 67,
   "metadata": {},
   "outputs": [
    {
     "name": "stdout",
     "output_type": "stream",
     "text": [
      "0: ───X───@───────@───────@─────────────────────────────\n",
      "          │       │       │\n",
      "1: ───I───┼───@───┼───────┼───────@─────────────────────\n",
      "          │   │   │       │       │\n",
      "2: ───────┼───┼───┼───@───┼───────┼─────────────────────\n",
      "          │   │   │   │   │       │\n",
      "3: ───X───┼───┼───┼───┼───┼───@───┼───@─────────────────\n",
      "          │   │   │   │   │   │   │   │\n",
      "4: ───────X───X───X───X───X───X───X───X───M('result')───\n"
     ]
    }
   ],
   "source": [
    "print(circuit)"
   ]
  },
  {
   "attachments": {},
   "cell_type": "markdown",
   "metadata": {},
   "source": [
    "## Figure 2)"
   ]
  },
  {
   "attachments": {},
   "cell_type": "markdown",
   "metadata": {},
   "source": [
    "If color is 0011, We have:"
   ]
  },
  {
   "cell_type": "code",
   "execution_count": 68,
   "metadata": {},
   "outputs": [],
   "source": [
    "circuit = cirq.Circuit()\n",
    "\n",
    "qs = cirq.LineQubit.range(5)\n",
    "\n",
    "circuit.append(I(qs[0]))\n",
    "circuit.append(I(qs[1]))\n",
    "circuit.append(X(qs[2]))\n",
    "circuit.append(X(qs[3]))\n",
    "\n",
    "circuit.append(CX(qs[0], qs[4]))\n",
    "circuit.append(CX(qs[2], qs[4]))\n",
    "circuit.append(CX(qs[0], qs[4]))\n",
    "circuit.append(CX(qs[3], qs[4]))\n",
    "circuit.append(CX(qs[2], qs[4]))\n",
    "circuit.append(CX(qs[1], qs[4]))\n",
    "circuit.append(CX(qs[1], qs[4]))\n",
    "circuit.append(CX(qs[3], qs[4]))\n",
    "\n",
    "circuit.append(cirq.measure(qs[4], key=\"result\"))"
   ]
  },
  {
   "cell_type": "code",
   "execution_count": 69,
   "metadata": {},
   "outputs": [
    {
     "name": "stdout",
     "output_type": "stream",
     "text": [
      "Counter({'0': 1000})\n"
     ]
    }
   ],
   "source": [
    "trials_number = 1000\n",
    "s = cirq.Simulator()\n",
    "samples = s.run(circuit, repetitions=trials_number)\n",
    "result = samples.measurements[\"result\"]\n",
    "\n",
    "def bitstring(bits):\n",
    "    return \"\".join(str(int(b)) for b in bits)\n",
    "\n",
    "counts = samples.histogram(key=\"result\",fold_func=bitstring)\n",
    "print(counts)"
   ]
  },
  {
   "cell_type": "code",
   "execution_count": 70,
   "metadata": {},
   "outputs": [
    {
     "name": "stdout",
     "output_type": "stream",
     "text": [
      "0: ───I───@───────@─────────────────────────────────────\n",
      "          │       │\n",
      "1: ───I───┼───────┼───────────@───@─────────────────────\n",
      "          │       │           │   │\n",
      "2: ───X───┼───@───┼───────@───┼───┼─────────────────────\n",
      "          │   │   │       │   │   │\n",
      "3: ───X───┼───┼───┼───@───┼───┼───┼───@─────────────────\n",
      "          │   │   │   │   │   │   │   │\n",
      "4: ───────X───X───X───X───X───X───X───X───M('result')───\n"
     ]
    }
   ],
   "source": [
    "print(circuit)"
   ]
  },
  {
   "attachments": {},
   "cell_type": "markdown",
   "metadata": {},
   "source": [
    "If color is 1100, We have:"
   ]
  },
  {
   "cell_type": "code",
   "execution_count": 71,
   "metadata": {},
   "outputs": [],
   "source": [
    "circuit = cirq.Circuit()\n",
    "\n",
    "qs = cirq.LineQubit.range(5)\n",
    "\n",
    "circuit.append(X(qs[0]))\n",
    "circuit.append(X(qs[1]))\n",
    "circuit.append(I(qs[2]))\n",
    "circuit.append(I(qs[3]))\n",
    "\n",
    "circuit.append(CX(qs[0], qs[4]))\n",
    "circuit.append(CX(qs[2], qs[4]))\n",
    "circuit.append(CX(qs[0], qs[4]))\n",
    "circuit.append(CX(qs[3], qs[4]))\n",
    "circuit.append(CX(qs[2], qs[4]))\n",
    "circuit.append(CX(qs[1], qs[4]))\n",
    "circuit.append(CX(qs[1], qs[4]))\n",
    "circuit.append(CX(qs[3], qs[4]))\n",
    "\n",
    "circuit.append(cirq.measure(qs[4], key=\"result\"))"
   ]
  },
  {
   "cell_type": "code",
   "execution_count": 72,
   "metadata": {},
   "outputs": [
    {
     "name": "stdout",
     "output_type": "stream",
     "text": [
      "Counter({'0': 1000})\n"
     ]
    }
   ],
   "source": [
    "trials_number = 1000\n",
    "s = cirq.Simulator()\n",
    "samples = s.run(circuit, repetitions=trials_number)\n",
    "result = samples.measurements[\"result\"]\n",
    "\n",
    "def bitstring(bits):\n",
    "    return \"\".join(str(int(b)) for b in bits)\n",
    "\n",
    "counts = samples.histogram(key=\"result\",fold_func=bitstring)\n",
    "print(counts)"
   ]
  },
  {
   "cell_type": "code",
   "execution_count": 73,
   "metadata": {},
   "outputs": [
    {
     "name": "stdout",
     "output_type": "stream",
     "text": [
      "0: ───X───@───────@─────────────────────────────────────\n",
      "          │       │\n",
      "1: ───X───┼───────┼───────────@───@─────────────────────\n",
      "          │       │           │   │\n",
      "2: ───I───┼───@───┼───────@───┼───┼─────────────────────\n",
      "          │   │   │       │   │   │\n",
      "3: ───I───┼───┼───┼───@───┼───┼───┼───@─────────────────\n",
      "          │   │   │   │   │   │   │   │\n",
      "4: ───────X───X───X───X───X───X───X───X───M('result')───\n"
     ]
    }
   ],
   "source": [
    "print(circuit)"
   ]
  }
 ],
 "metadata": {
  "kernelspec": {
   "display_name": "Python 3",
   "language": "python",
   "name": "python3"
  },
  "language_info": {
   "codemirror_mode": {
    "name": "ipython",
    "version": 3
   },
   "file_extension": ".py",
   "mimetype": "text/x-python",
   "name": "python",
   "nbconvert_exporter": "python",
   "pygments_lexer": "ipython3",
   "version": "3.11.3"
  },
  "orig_nbformat": 4
 },
 "nbformat": 4,
 "nbformat_minor": 2
}
